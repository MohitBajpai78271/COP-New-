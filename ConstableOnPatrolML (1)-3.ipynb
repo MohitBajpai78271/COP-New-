{
 "cells": [
  {
   "cell_type": "code",
   "execution_count": 1,
   "metadata": {},
   "outputs": [
    {
     "name": "stdout",
     "output_type": "stream",
     "text": [
      "Collecting folium\n",
      "  Downloading folium-0.20.0-py2.py3-none-any.whl.metadata (4.2 kB)\n",
      "Requirement already satisfied: requests in /opt/anaconda3/lib/python3.12/site-packages (2.32.3)\n",
      "Collecting branca>=0.6.0 (from folium)\n",
      "  Downloading branca-0.8.1-py3-none-any.whl.metadata (1.5 kB)\n",
      "Requirement already satisfied: jinja2>=2.9 in /opt/anaconda3/lib/python3.12/site-packages (from folium) (3.1.4)\n",
      "Requirement already satisfied: numpy in /opt/anaconda3/lib/python3.12/site-packages (from folium) (1.26.4)\n",
      "Requirement already satisfied: xyzservices in /opt/anaconda3/lib/python3.12/site-packages (from folium) (2022.9.0)\n",
      "Requirement already satisfied: charset-normalizer<4,>=2 in /opt/anaconda3/lib/python3.12/site-packages (from requests) (3.3.2)\n",
      "Requirement already satisfied: idna<4,>=2.5 in /opt/anaconda3/lib/python3.12/site-packages (from requests) (3.7)\n",
      "Requirement already satisfied: urllib3<3,>=1.21.1 in /opt/anaconda3/lib/python3.12/site-packages (from requests) (2.2.3)\n",
      "Requirement already satisfied: certifi>=2017.4.17 in /opt/anaconda3/lib/python3.12/site-packages (from requests) (2024.8.30)\n",
      "Requirement already satisfied: MarkupSafe>=2.0 in /opt/anaconda3/lib/python3.12/site-packages (from jinja2>=2.9->folium) (2.1.3)\n",
      "Downloading folium-0.20.0-py2.py3-none-any.whl (113 kB)\n",
      "Downloading branca-0.8.1-py3-none-any.whl (26 kB)\n",
      "Installing collected packages: branca, folium\n",
      "\u001b[2K   \u001b[90m━━━━━━━━━━━━━━━━━━━━━━━━━━━━━━━━━━━━━━━━\u001b[0m \u001b[32m2/2\u001b[0m [folium]\n",
      "\u001b[1A\u001b[2KSuccessfully installed branca-0.8.1 folium-0.20.0\n"
     ]
    }
   ],
   "source": [
    "!pip install folium requests"
   ]
  },
  {
   "cell_type": "code",
   "execution_count": 2,
   "metadata": {
    "id": "OBO0gYWkAXkQ"
   },
   "outputs": [],
   "source": [
    "import pandas as pd\n",
    "import numpy as np\n",
    "import folium\n",
    "import requests\n",
    "import seaborn as sns"
   ]
  },
  {
   "cell_type": "code",
   "execution_count": 3,
   "metadata": {
    "id": "YXjIV52hAfLn"
   },
   "outputs": [],
   "source": [
    "api_url = \"\"\n",
    "response = requests.get(api_url)\n",
    "data = response.json()\n",
    "df = pd.DataFrame(data)"
   ]
  },
  {
   "cell_type": "code",
   "execution_count": 4,
   "metadata": {
    "id": "P3P49fhlA9Xo"
   },
   "outputs": [],
   "source": [
    "df['lat'] = df['lat'].astype(float)\n",
    "df['long'] = df['long'].astype(float)"
   ]
  },
  {
   "cell_type": "code",
   "execution_count": 5,
   "metadata": {
    "id": "V0xUfY3UBR6n"
   },
   "outputs": [],
   "source": [
    "df = df[['lat','long']]"
   ]
  },
  {
   "cell_type": "code",
   "execution_count": 6,
   "metadata": {
    "id": "_9HDhJDeAKL0"
   },
   "outputs": [],
   "source": [
    "lat_min, lat_max = 28.40, 28.88\n",
    "lon_min, lon_max = 76.84, 77.35\n",
    "\n",
    "df = df[\n",
    "    (df['lat'] >= lat_min) & (df['lat'] <= lat_max) &\n",
    "    (df['long'] >= lon_min) & (df['long'] <= lon_max)\n",
    "]"
   ]
  },
  {
   "cell_type": "code",
   "execution_count": null,
   "metadata": {
    "colab": {
     "base_uri": "https://localhost:8080/"
    },
    "id": "FanwytBc_bm_",
    "outputId": "0d914576-fc2c-4130-daac-0c90a51982fe"
   },
   "outputs": [
    {
     "name": "stdout",
     "output_type": "stream",
     "text": [
      "Remaining points after filtering: 2629\n"
     ]
    }
   ],
   "source": [
    "print(f\"Remaining points after filtering: {len(df)}\")"
   ]
  },
  {
   "cell_type": "code",
   "execution_count": null,
   "metadata": {
    "colab": {
     "base_uri": "https://localhost:8080/"
    },
    "id": "dnHoFPzu_cg2",
    "outputId": "25cf72bf-a7fd-4414-c54b-3ecee7684518"
   },
   "outputs": [
    {
     "name": "stdout",
     "output_type": "stream",
     "text": [
      "28.5649967 28.8784733 76.9653197 77.243375\n"
     ]
    }
   ],
   "source": [
    "lat_min1, lat_max1 = df['lat'].min(), df['lat'].max()\n",
    "lon_min1, lon_max1 = df['long'].min(), df['long'].max()\n",
    "print(lat_min1, lat_max1 ,lon_min1, lon_max1)"
   ]
  },
  {
   "cell_type": "code",
   "execution_count": 7,
   "metadata": {
    "colab": {
     "base_uri": "https://localhost:8080/",
     "height": 718
    },
    "id": "CXI-q19-_tiy",
    "outputId": "a7f2cb98-9b5e-4e9b-bbcc-ffdf01f2d7c9"
   },
   "outputs": [],
   "source": [
    "import matplotlib.pyplot as plt\n",
    "plt.figure(figsize=(8, 8))\n",
    "plt.scatter(df['long'], df['lat'], s=2, alpha=0.5)\n",
    "plt.title('Crime Locations Within Delhi')\n",
    "plt.xlabel('Longitude')\n",
    "plt.ylabel('Latitude')\n",
    "plt.grid(True)\n",
    "plt.show()\n"
   ]
  },
  {
   "cell_type": "code",
   "execution_count": 8,
   "metadata": {
    "colab": {
     "base_uri": "https://localhost:8080/",
     "height": 300
    },
    "id": "J8YjYgZ2_5Bt",
    "outputId": "56e03142-3e6e-470b-e681-be1c443591c6"
   },
   "outputs": [],
   "source": [
    "df.describe()"
   ]
  },
  {
   "cell_type": "code",
   "execution_count": 9,
   "metadata": {
    "colab": {
     "base_uri": "https://localhost:8080/",
     "height": 147
    },
    "id": "T09dDL9qARJI",
    "outputId": "3762d7e5-96c8-4461-9713-266e99bcfba2"
   },
   "outputs": [
    {
     "data": {
      "text/plain": [
       "lat     0\n",
       "long    0\n",
       "dtype: int64"
      ]
     },
     "execution_count": 9,
     "metadata": {},
     "output_type": "execute_result"
    }
   ],
   "source": [
    "df.isnull().sum()"
   ]
  },
  {
   "cell_type": "code",
   "execution_count": 10,
   "metadata": {
    "colab": {
     "base_uri": "https://localhost:8080/"
    },
    "id": "TwRgCKE3AVoa",
    "outputId": "9150ecaf-5a71-4c02-919c-220a6cde0b50"
   },
   "outputs": [
    {
     "name": "stdout",
     "output_type": "stream",
     "text": [
      "92\n"
     ]
    }
   ],
   "source": [
    "print(df.duplicated().sum())"
   ]
  },
  {
   "cell_type": "code",
   "execution_count": 11,
   "metadata": {
    "colab": {
     "base_uri": "https://localhost:8080/"
    },
    "id": "QGXVecsNAYDi",
    "outputId": "8000f450-1dce-47e3-a48d-8831cef529d6"
   },
   "outputs": [],
   "source": [
    "df = df.drop_duplicates().reset_index(drop=True)\n",
    "print(f\"Data points after removing duplicates: {len(df)}\")\n"
   ]
  },
  {
   "cell_type": "code",
   "execution_count": 12,
   "metadata": {
    "colab": {
     "base_uri": "https://localhost:8080/",
     "height": 718
    },
    "id": "7On6VECJB0Xx",
    "outputId": "0f517b81-edc0-4bf6-ac43-21f8531f8af4"
   },
   "outputs": [],
   "source": [
    "import seaborn as sns\n",
    "import matplotlib.pyplot as plt\n",
    "\n",
    "plt.figure(figsize=(8, 8))\n",
    "sns.kdeplot(\n",
    "    x=df['long'], y=df['lat'],\n",
    "    cmap=\"Reds\", fill=True, bw_adjust=0.05, levels=20, thresh=0.01\n",
    ")\n",
    "plt.title('Crime Density in Outer North Delhi')\n",
    "plt.xlabel('Longitude')\n",
    "plt.ylabel('Latitude')\n",
    "plt.grid(True)\n",
    "plt.show()\n"
   ]
  },
  {
   "cell_type": "code",
   "execution_count": 13,
   "metadata": {
    "colab": {
     "base_uri": "https://localhost:8080/",
     "height": 718
    },
    "id": "whGneiulCDa1",
    "outputId": "038a0381-2bb0-4b32-93c4-dd85e37b24fc"
   },
   "outputs": [],
   "source": [
    "plt.figure(figsize=(8, 8))\n",
    "sns.kdeplot(\n",
    "    x=df['long'], y=df['lat'],\n",
    "    cmap=\"Reds\", fill=True, bw_adjust=0.05, levels=20, thresh=0.01\n",
    ")\n",
    "plt.scatter(df['long'], df['lat'], s=5, alpha=0.3, color='black')\n",
    "plt.title('Crime Density + Raw Points')\n",
    "plt.xlabel('Longitude')\n",
    "plt.ylabel('Latitude')\n",
    "plt.grid(True)\n",
    "plt.show()\n"
   ]
  },
  {
   "cell_type": "code",
   "execution_count": 14,
   "metadata": {
    "colab": {
     "base_uri": "https://localhost:8080/",
     "height": 410
    },
    "id": "wYneMLQZNBXY",
    "outputId": "939ca2da-e9d3-4cc9-ba49-54dfd2d43a40"
   },
   "outputs": [],
   "source": [
    "from sklearn.neighbors import NearestNeighbors\n",
    "import matplotlib.pyplot as plt\n",
    "\n",
    "k = 50\n",
    "coords = np.radians(df[['lat', 'long']])\n",
    "nbrs = NearestNeighbors(n_neighbors=k, metric='haversine').fit(coords)\n",
    "distances, indices = nbrs.kneighbors(coords)\n",
    "\n",
    "k_distances = distances[:, -1] * 6371\n",
    "k_distances = np.sort(k_distances)\n",
    "plt.figure(figsize=(8, 4))\n",
    "plt.plot(k_distances)\n",
    "plt.xlabel(\"Points sorted by distance\")\n",
    "plt.ylabel(f\"Distance to {k}th nearest neighbor (km)\")\n",
    "plt.title(\"k-distance graph to estimate eps\")\n",
    "plt.grid(True)\n",
    "plt.show()\n"
   ]
  },
  {
   "cell_type": "code",
   "execution_count": null,
   "metadata": {
    "id": "sAbW61m2NI1N"
   },
   "outputs": [],
   "source": [
    "eps_km = 0.4\n",
    "eps_rad = eps_km / 6371  # Earth radius in km"
   ]
  },
  {
   "cell_type": "code",
   "execution_count": null,
   "metadata": {
    "id": "I58yeYkGNi0e"
   },
   "outputs": [],
   "source": [
    "from sklearn.cluster import DBSCAN\n",
    "coords = np.radians(df[['lat', 'long']])\n",
    "db = DBSCAN(eps=eps_rad, min_samples=10, metric='haversine').fit(coords)\n",
    "df['cluster'] = db.labels_\n"
   ]
  },
  {
   "cell_type": "code",
   "execution_count": 15,
   "metadata": {
    "colab": {
     "base_uri": "https://localhost:8080/",
     "height": 931
    },
    "id": "jK_--BoaNrmm",
    "outputId": "28db82bd-fc8b-4f04-f26a-f04ea5d5cb81"
   },
   "outputs": [],
   "source": [
    "\n",
    "df['cluster'].value_counts()"
   ]
  },
  {
   "cell_type": "code",
   "execution_count": 16,
   "metadata": {
    "colab": {
     "base_uri": "https://localhost:8080/"
    },
    "id": "YmKAyBMvRdZ-",
    "outputId": "00bff004-06d2-44cd-cba3-f2c039c8622a"
   },
   "outputs": [],
   "source": [
    "\n",
    "hot = df[df['cluster'] >= 0]\n",
    "cluster_centroids = hot.groupby('cluster')[['lat','long']].mean().reset_index()\n",
    "\n",
    "counts = hot['cluster'].value_counts().rename_axis('cluster').reset_index(name='crime_count')\n",
    "centroids = pd.merge(cluster_centroids, counts, on='cluster')\n",
    "\n",
    "centroids = centroids.sort_values('crime_count', ascending=False).reset_index(drop=True)\n",
    "\n",
    "print(centroids.head(8))  \n"
   ]
  },
  {
   "cell_type": "code",
   "execution_count": 17,
   "metadata": {
    "id": "VrNWJMoLhX11"
   },
   "outputs": [],
   "source": [
    "from pyngrok import ngrok\n",
    "\n",
    "# Paste your real token inside the quotes\n",
    "ngrok.set_auth_token(\"\")\n"
   ]
  },
  {
   "cell_type": "code",
   "execution_count": null,
   "metadata": {
    "colab": {
     "base_uri": "https://localhost:8080/"
    },
    "id": "dKEzeL4ukzfv",
    "outputId": "1950ddf2-616a-4ee2-ec11-5800b23bfb45"
   },
   "outputs": [
    {
     "name": "stdout",
     "output_type": "stream",
     "text": [
      "Requirement already satisfied: fastapi in /usr/local/lib/python3.11/dist-packages (0.115.13)\n",
      "Requirement already satisfied: uvicorn in /usr/local/lib/python3.11/dist-packages (0.34.3)\n",
      "Requirement already satisfied: scikit-learn in /usr/local/lib/python3.11/dist-packages (1.6.1)\n",
      "Requirement already satisfied: pandas in /usr/local/lib/python3.11/dist-packages (2.2.2)\n",
      "Requirement already satisfied: numpy in /usr/local/lib/python3.11/dist-packages (2.0.2)\n",
      "Requirement already satisfied: httpx in /usr/local/lib/python3.11/dist-packages (0.28.1)\n",
      "Requirement already satisfied: starlette<0.47.0,>=0.40.0 in /usr/local/lib/python3.11/dist-packages (from fastapi) (0.46.2)\n",
      "Requirement already satisfied: pydantic!=1.8,!=1.8.1,!=2.0.0,!=2.0.1,!=2.1.0,<3.0.0,>=1.7.4 in /usr/local/lib/python3.11/dist-packages (from fastapi) (2.11.7)\n",
      "Requirement already satisfied: typing-extensions>=4.8.0 in /usr/local/lib/python3.11/dist-packages (from fastapi) (4.14.0)\n",
      "Requirement already satisfied: click>=7.0 in /usr/local/lib/python3.11/dist-packages (from uvicorn) (8.2.1)\n",
      "Requirement already satisfied: h11>=0.8 in /usr/local/lib/python3.11/dist-packages (from uvicorn) (0.16.0)\n",
      "Requirement already satisfied: scipy>=1.6.0 in /usr/local/lib/python3.11/dist-packages (from scikit-learn) (1.15.3)\n",
      "Requirement already satisfied: joblib>=1.2.0 in /usr/local/lib/python3.11/dist-packages (from scikit-learn) (1.5.1)\n",
      "Requirement already satisfied: threadpoolctl>=3.1.0 in /usr/local/lib/python3.11/dist-packages (from scikit-learn) (3.6.0)\n",
      "Requirement already satisfied: python-dateutil>=2.8.2 in /usr/local/lib/python3.11/dist-packages (from pandas) (2.9.0.post0)\n",
      "Requirement already satisfied: pytz>=2020.1 in /usr/local/lib/python3.11/dist-packages (from pandas) (2025.2)\n",
      "Requirement already satisfied: tzdata>=2022.7 in /usr/local/lib/python3.11/dist-packages (from pandas) (2025.2)\n",
      "Requirement already satisfied: anyio in /usr/local/lib/python3.11/dist-packages (from httpx) (4.9.0)\n",
      "Requirement already satisfied: certifi in /usr/local/lib/python3.11/dist-packages (from httpx) (2025.6.15)\n",
      "Requirement already satisfied: httpcore==1.* in /usr/local/lib/python3.11/dist-packages (from httpx) (1.0.9)\n",
      "Requirement already satisfied: idna in /usr/local/lib/python3.11/dist-packages (from httpx) (3.10)\n",
      "Requirement already satisfied: annotated-types>=0.6.0 in /usr/local/lib/python3.11/dist-packages (from pydantic!=1.8,!=1.8.1,!=2.0.0,!=2.0.1,!=2.1.0,<3.0.0,>=1.7.4->fastapi) (0.7.0)\n",
      "Requirement already satisfied: pydantic-core==2.33.2 in /usr/local/lib/python3.11/dist-packages (from pydantic!=1.8,!=1.8.1,!=2.0.0,!=2.0.1,!=2.1.0,<3.0.0,>=1.7.4->fastapi) (2.33.2)\n",
      "Requirement already satisfied: typing-inspection>=0.4.0 in /usr/local/lib/python3.11/dist-packages (from pydantic!=1.8,!=1.8.1,!=2.0.0,!=2.0.1,!=2.1.0,<3.0.0,>=1.7.4->fastapi) (0.4.1)\n",
      "Requirement already satisfied: six>=1.5 in /usr/local/lib/python3.11/dist-packages (from python-dateutil>=2.8.2->pandas) (1.17.0)\n",
      "Requirement already satisfied: sniffio>=1.1 in /usr/local/lib/python3.11/dist-packages (from anyio->httpx) (1.3.1)\n"
     ]
    }
   ],
   "source": [
    "pip install fastapi uvicorn scikit-learn pandas numpy httpx"
   ]
  },
  {
   "cell_type": "code",
   "execution_count": null,
   "metadata": {
    "id": "QcTuc8ybkznf"
   },
   "outputs": [],
   "source": [
    "# app.py\n",
    "from fastapi import FastAPI, HTTPException, Query\n",
    "from pydantic import BaseModel\n",
    "from typing import List, Optional\n",
    "import pandas as pd\n",
    "import numpy as np\n",
    "from sklearn.cluster import DBSCAN\n",
    "import httpx\n",
    "\n",
    "app = FastAPI(\n",
    "    title=\"Crime-Hotspot API\",\n",
    "    description=\"Given a URL returning crime records, returns top-8 Delhi hotspots.\",\n",
    "    version=\"1.0\"\n",
    ")\n",
    "\n",
    "class CrimeRecord(BaseModel):\n",
    "    _id: str\n",
    "    lat: str\n",
    "    long: str\n",
    "    crime: Optional[str]\n",
    "    beat: Optional[str]\n",
    "    date: Optional[str]\n",
    "    month: Optional[str]\n",
    "    year: Optional[str]\n",
    "    __v: Optional[int]\n",
    "\n",
    "def find_hotspots(\n",
    "    records: List[CrimeRecord],\n",
    "    eps_km: float = 0.4,\n",
    "    min_samples: int = 10\n",
    ") -> List[dict]:\n",
    "    # 1) to DataFrame\n",
    "    df = pd.DataFrame([r.dict() for r in records])\n",
    "    df['lat'] = df['lat'].astype(float)\n",
    "    df['long'] = df['long'].astype(float)\n",
    "\n",
    "    # 2) Filter to Delhi bounding box\n",
    "    lat_min, lat_max = 28.4, 28.88\n",
    "    lon_min, lon_max = 76.84, 77.35\n",
    "    df = df[\n",
    "        df['lat'].between(lat_min, lat_max) &\n",
    "        df['long'].between(lon_min, lon_max)\n",
    "    ].copy()\n",
    "\n",
    "    df.drop_duplicates(subset=['lat','long'], inplace=True)\n",
    "\n",
    "    if df.empty:\n",
    "        return []\n",
    "\n",
    "    coords = np.radians(df[['lat','long']])\n",
    "    eps_rad = eps_km / 6371.0\n",
    "    db = DBSCAN(eps=eps_rad, min_samples=min_samples, metric='haversine')\n",
    "    df['cluster'] = db.fit_predict(coords)\n",
    "\n",
    "    hot = df[df['cluster'] >= 0]\n",
    "\n",
    "    centroids = (\n",
    "        hot.groupby('cluster')[['lat','long']].mean().reset_index()\n",
    "        .merge(\n",
    "            hot['cluster'].value_counts()\n",
    "               .rename_axis('cluster')\n",
    "               .reset_index(name='crime_count'),\n",
    "            on='cluster'\n",
    "        )\n",
    "        .sort_values('crime_count', ascending=False)\n",
    "        .reset_index(drop=True)\n",
    "    )\n",
    "\n",
    "    return centroids.head(8).to_dict(orient='records')\n"
   ]
  },
  {
   "cell_type": "code",
   "execution_count": null,
   "metadata": {
    "id": "a8DuSRWEkzQ-"
   },
   "outputs": [],
   "source": [
    "@app.get(\"/hotspots/\")\n",
    "async def hotspots_from_url(\n",
    "    source_url: str = Query(\n",
    "        ...,\n",
    "        description=\"Public API endpoint that returns a JSON array of crime records\"\n",
    "    ),\n",
    "    eps_km: float = Query(0.4, description=\"Radius for DBSCAN (km)\"),\n",
    "    min_samples: int = Query(10, description=\"Min samples per cluster\")\n",
    "):\n",
    "    \"\"\"\n",
    "    Fetches crime data from `source_url`, runs DBSCAN+centroid logic,\n",
    "    and returns top-8 crime hotspots within Delhi.\n",
    "    \"\"\"\n",
    "    # 1) Fetch the data\n",
    "    async with httpx.AsyncClient(timeout=10) as client:\n",
    "        resp = await client.get(source_url)\n",
    "    if resp.status_code != 200:\n",
    "        raise HTTPException(\n",
    "            status_code=502,\n",
    "            detail=f\"Failed to fetch data from {source_url}: {resp.status_code}\"\n",
    "        )\n",
    "\n",
    "    # 2) Parse JSON into our model\n",
    "    try:\n",
    "        records = [CrimeRecord(**item) for item in resp.json()]\n",
    "    except Exception as e:\n",
    "        raise HTTPException(\n",
    "            status_code=400,\n",
    "            detail=f\"Invalid JSON schema: {e}\"\n",
    "        )\n",
    "\n",
    "    # 3) Compute hotspots\n",
    "    result = find_hotspots(records, eps_km=eps_km, min_samples=min_samples)\n",
    "    return {\"hotspots\": result}"
   ]
  },
  {
   "cell_type": "code",
   "execution_count": 19,
   "metadata": {
    "colab": {
     "base_uri": "https://localhost:8080/"
    },
    "id": "noibp8ahoCdm",
    "outputId": "394f4e09-097d-48e2-c6c3-97c1c634a6c1"
   },
   "outputs": [],
   "source": [
    "\n",
    "!pip install nest_asyncio pyngrok\n",
    "\n",
    "from pyngrok import ngrok\n",
    "import uvicorn\n",
    "\n",
    "nest_asyncio.apply()\n",
    "\n",
    "#    If you don’t need external access, you can skip the ngrok lines.\n",
    "public_url = ngrok.connect(8000).public_url\n",
    "print(f\"🚀 Public URL: {public_url}/hotspots/?source_url=<YOUR_CRIME_API>\")\n",
    "\n",
    "uvicorn.run(app, host=\"0.0.0.0\", port=8000)\n"
   ]
  },
  {
   "cell_type": "markdown",
   "metadata": {
    "id": "CXOcKFVDhvSI"
   },
   "source": []
  }
 ],
 "metadata": {
  "colab": {
   "provenance": []
  },
  "kernelspec": {
   "display_name": "Python 3 (ipykernel)",
   "language": "python",
   "name": "python3"
  },
  "language_info": {
   "codemirror_mode": {
    "name": "ipython",
    "version": 3
   },
   "file_extension": ".py",
   "mimetype": "text/x-python",
   "name": "python",
   "nbconvert_exporter": "python",
   "pygments_lexer": "ipython3",
   "version": "3.12.7"
  }
 },
 "nbformat": 4,
 "nbformat_minor": 4
}
